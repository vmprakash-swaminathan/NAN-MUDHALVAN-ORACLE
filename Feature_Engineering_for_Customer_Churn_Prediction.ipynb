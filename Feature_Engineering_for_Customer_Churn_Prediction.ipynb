{
  "nbformat": 4,
  "nbformat_minor": 0,
  "metadata": {
    "colab": {
      "provenance": [],
      "include_colab_link": true
    },
    "kernelspec": {
      "name": "python3",
      "display_name": "Python 3"
    },
    "language_info": {
      "name": "python"
    }
  },
  "cells": [
    {
      "cell_type": "markdown",
      "metadata": {
        "id": "view-in-github",
        "colab_type": "text"
      },
      "source": [
        "<a href=\"https://colab.research.google.com/github/vmprakash-swaminathan/NAN-MUDHALVAN-ORACLE/blob/main/Feature_Engineering_for_Customer_Churn_Prediction.ipynb\" target=\"_parent\"><img src=\"https://colab.research.google.com/assets/colab-badge.svg\" alt=\"Open In Colab\"/></a>"
      ]
    },
    {
      "cell_type": "markdown",
      "source": [
        "Import Libraries"
      ],
      "metadata": {
        "id": "g-mgoj7j4hYd"
      }
    },
    {
      "cell_type": "code",
      "execution_count": null,
      "metadata": {
        "id": "KXthO3zl4RQP"
      },
      "outputs": [],
      "source": [
        "import pandas as pd\n",
        "import numpy as np\n",
        "from sklearn.preprocessing import PolynomialFeatures, StandardScaler\n",
        "import matplotlib.pyplot as plt\n",
        "import seaborn as sns"
      ]
    },
    {
      "cell_type": "markdown",
      "source": [
        "Load the Data"
      ],
      "metadata": {
        "id": "6ibAMhSz4x1f"
      }
    },
    {
      "cell_type": "code",
      "source": [
        "data_path = './processed_telco_churn.csv'\n",
        "df = pd.read_csv(data_path)"
      ],
      "metadata": {
        "id": "7chFD6Ba4yaL"
      },
      "execution_count": null,
      "outputs": []
    },
    {
      "cell_type": "code",
      "source": [
        "print(df.head())\n",
        "print(df.columns)"
      ],
      "metadata": {
        "colab": {
          "base_uri": "https://localhost:8080/"
        },
        "id": "DjmQhPvy46qm",
        "outputId": "74f3c770-5c69-4ac2-b27d-81698605ff13"
      },
      "execution_count": null,
      "outputs": [
        {
          "output_type": "stream",
          "name": "stdout",
          "text": [
            "   gender  SeniorCitizen  Partner  Dependents    tenure  PhoneService  \\\n",
            "0       0              0        1           0 -1.277445             0   \n",
            "1       1              0        0           0  0.066327             1   \n",
            "2       1              0        0           0 -1.236724             1   \n",
            "3       1              0        0           0  0.514251             0   \n",
            "4       0              0        0           0 -1.236724             1   \n",
            "\n",
            "   PaperlessBilling  MonthlyCharges  TotalCharges  Churn  ...  \\\n",
            "0                 1       -1.160323     -0.994971      0  ...   \n",
            "1                 0       -0.259629     -0.173876      0  ...   \n",
            "2                 1       -0.362660     -0.960399      1  ...   \n",
            "3                 0       -0.746535     -0.195400      0  ...   \n",
            "4                 1        0.197365     -0.941193      1  ...   \n",
            "\n",
            "   StreamingTV_No internet service  StreamingTV_Yes  \\\n",
            "0                            False            False   \n",
            "1                            False            False   \n",
            "2                            False            False   \n",
            "3                            False            False   \n",
            "4                            False            False   \n",
            "\n",
            "   StreamingMovies_No internet service  StreamingMovies_Yes  \\\n",
            "0                                False                False   \n",
            "1                                False                False   \n",
            "2                                False                False   \n",
            "3                                False                False   \n",
            "4                                False                False   \n",
            "\n",
            "   Contract_One year  Contract_Two year  \\\n",
            "0              False              False   \n",
            "1               True              False   \n",
            "2              False              False   \n",
            "3               True              False   \n",
            "4              False              False   \n",
            "\n",
            "   PaymentMethod_Credit card (automatic)  PaymentMethod_Electronic check  \\\n",
            "0                                  False                            True   \n",
            "1                                  False                           False   \n",
            "2                                  False                           False   \n",
            "3                                  False                           False   \n",
            "4                                  False                            True   \n",
            "\n",
            "   PaymentMethod_Mailed check  tenure_bins  \n",
            "0                       False     0-1 year  \n",
            "1                        True    2-5 years  \n",
            "2                        True     0-1 year  \n",
            "3                       False    2-5 years  \n",
            "4                       False     0-1 year  \n",
            "\n",
            "[5 rows x 32 columns]\n",
            "Index(['gender', 'SeniorCitizen', 'Partner', 'Dependents', 'tenure',\n",
            "       'PhoneService', 'PaperlessBilling', 'MonthlyCharges', 'TotalCharges',\n",
            "       'Churn', 'MultipleLines_No phone service', 'MultipleLines_Yes',\n",
            "       'InternetService_Fiber optic', 'InternetService_No',\n",
            "       'OnlineSecurity_No internet service', 'OnlineSecurity_Yes',\n",
            "       'OnlineBackup_No internet service', 'OnlineBackup_Yes',\n",
            "       'DeviceProtection_No internet service', 'DeviceProtection_Yes',\n",
            "       'TechSupport_No internet service', 'TechSupport_Yes',\n",
            "       'StreamingTV_No internet service', 'StreamingTV_Yes',\n",
            "       'StreamingMovies_No internet service', 'StreamingMovies_Yes',\n",
            "       'Contract_One year', 'Contract_Two year',\n",
            "       'PaymentMethod_Credit card (automatic)',\n",
            "       'PaymentMethod_Electronic check', 'PaymentMethod_Mailed check',\n",
            "       'tenure_bins'],\n",
            "      dtype='object')\n"
          ]
        }
      ]
    },
    {
      "cell_type": "markdown",
      "source": [
        "Create Interaction Terms"
      ],
      "metadata": {
        "id": "_BV9PaDM5A3z"
      }
    },
    {
      "cell_type": "code",
      "source": [
        "df['tenure_monthlycharges_interaction'] = df['tenure'] * df['MonthlyCharges']\n",
        "df['tenure_totalcharges_interaction'] = df['tenure'] * df['TotalCharges']"
      ],
      "metadata": {
        "id": "50E9opyW5Bcb"
      },
      "execution_count": null,
      "outputs": []
    },
    {
      "cell_type": "markdown",
      "source": [
        "Polynomial Features"
      ],
      "metadata": {
        "id": "6mVybX2Y5Fnb"
      }
    },
    {
      "cell_type": "code",
      "source": [
        "poly = PolynomialFeatures(degree=2, include_bias=False)\n",
        "features = df[['tenure', 'MonthlyCharges']]\n",
        "poly_features = poly.fit_transform(features)\n",
        "poly_feature_names = poly.get_feature_names_out(['tenure', 'MonthlyCharges'])\n",
        "poly_features_df = pd.DataFrame(poly_features, columns=poly_feature_names)\n",
        "overlap_columns = set(df.columns).intersection(set(poly_features_df.columns))\n",
        "df = pd.concat([df, poly_features_df.loc[:, ~poly_features_df.columns.isin(overlap_columns)]], axis=1)\n",
        "scaler = StandardScaler()\n",
        "df['MonthlyCharges_scaled'] = scaler.fit_transform(df[['MonthlyCharges']])"
      ],
      "metadata": {
        "id": "BEMuSwNG5GJZ"
      },
      "execution_count": null,
      "outputs": []
    },
    {
      "cell_type": "markdown",
      "source": [
        "Save the Enhanced Data"
      ],
      "metadata": {
        "id": "9ygTjBGT5NXE"
      }
    },
    {
      "cell_type": "code",
      "source": [
        "df.to_csv('enhanced_feature_data.csv', index=False)"
      ],
      "metadata": {
        "id": "KcY0GuTp5NzH"
      },
      "execution_count": null,
      "outputs": []
    },
    {
      "cell_type": "markdown",
      "source": [
        "Visualize Some Data"
      ],
      "metadata": {
        "id": "8cJMS8d05Q8f"
      }
    },
    {
      "cell_type": "code",
      "source": [
        "sns.countplot(x='tenure_bins', data=df)\n",
        "plt.title('Distribution of Tenure Bins')\n",
        "plt.show()"
      ],
      "metadata": {
        "id": "qRTvp97Q5RdE",
        "outputId": "d88c3248-2689-4844-9ff9-d8d4b1ba20c2",
        "colab": {
          "base_uri": "https://localhost:8080/",
          "height": 472
        }
      },
      "execution_count": null,
      "outputs": [
        {
          "output_type": "display_data",
          "data": {
            "text/plain": [
              "<Figure size 640x480 with 1 Axes>"
            ],
            "image/png": "[encoded data removed]"
          },
          "metadata": {}
        }
      ]
    }
  ]
}